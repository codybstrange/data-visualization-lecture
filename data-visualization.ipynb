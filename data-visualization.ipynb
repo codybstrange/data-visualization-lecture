{
 "cells": [
  {
   "cell_type": "markdown",
   "metadata": {},
   "source": [
    "# Data Visualization Lecture 2025\n",
    "This is the notebook associated with the \"Data Visualization\" lecture delivered at the Winter Semester 2024/25 offering of \"Research Methods in Linguistics\" at the University of Cologne."
   ]
  },
  {
   "cell_type": "markdown",
   "metadata": {},
   "source": [
    "## Question: How can we quantify properties of large texts?\n",
    "Imagine you are reading *Frankenstein* by Mary Shelley and you wonder what the most common letter in the text is?\n",
    "\n",
    "Most likely, that letter is *e*, but how can you quantify this? How can you compare with numbers the frequency with which *e* occurs relative to e.g. *f* or *d*? \n",
    "\n",
    "Programming allows one to take highly repetitive, structured tasks and to automate them relatively simply.\n",
    "\n",
    "Let's begin by counting all of the letters in *Frankenstein*. I will add comments to my code so that you can hopefully understand what each step does, or at least learn the correct terminology so that you can search for how to do the things I talk about."
   ]
  },
  {
   "cell_type": "code",
   "execution_count": 2,
   "metadata": {},
   "outputs": [
    {
     "name": "stdout",
     "output_type": "stream",
     "text": [
      "{'p': 6121, 'r': 20818, 'o': 25225, 'j': 504, 'e': 46043, 'c': 9243, 't': 30365, 'g': 5974, 'u': 10407, 'n': 24367, 'b': 5026, 's': 21155, 'f': 8731, 'a': 26743, 'k': 1755, 'i': 24613, 'y': 7914, 'm': 10604, 'w': 7638, 'l': 12739, 'd': 16863, 'h': 19725, 'v': 3833, 'z': 243, 'x': 677, 'q': 324}\n"
     ]
    }
   ],
   "source": [
    "# Python has variables called dictionaries. \n",
    "# There is a unique key & value pair, a little like a real dictionary, where the word (key) is how you\n",
    "# look up its definition (value) in the book.\n",
    "# letter_counts will be a dictionary where the keys are the letters in the text (all lowercase)\n",
    "# and the values are a counter to keep track of how often the respective letter occurs.\n",
    "letter_counts = {}\n",
    "\n",
    "# This is the text we are interested in, which we will read in and store in a string\n",
    "with open(\"books/frankenstein.txt\", \"r\") as f:\n",
    "  text = f.read()\n",
    "\n",
    "# Here we will loop over all the letters in the text, as if we have the text in front of us, and we are tracing out\n",
    "# each letter as we read through the text.\n",
    "\n",
    "for character in text:\n",
    "    # We only care about lowercase letters, so we will convert any uppercase letters to lowercase.\n",
    "    character = character.lower()\n",
    "    # Check if the character is an actual letter\n",
    "    if character.isalpha():\n",
    "        # If character hasn't been seen before, we add it to the dictionary\n",
    "        if character not in letter_counts:\n",
    "            letter_counts[character] = 1\n",
    "        # If the character is already in the dictionary, we will increment the counter by 1.\n",
    "        else:\n",
    "            letter_counts[character] += 1\n",
    "print(letter_counts)"
   ]
  },
  {
   "cell_type": "markdown",
   "metadata": {},
   "source": [
    "Notice how ugly this direct print out looks. We should try sorting the dictionary, and jazzing up the print out a bit more so that we can then easily see what the ranking of letters is"
   ]
  },
  {
   "cell_type": "code",
   "execution_count": 6,
   "metadata": {},
   "outputs": [
    {
     "name": "stdout",
     "output_type": "stream",
     "text": [
      "--- Begin character report of Frankenstein ---\n",
      "The 'e' character was found 46043 times\n",
      "The 't' character was found 30365 times\n",
      "The 'a' character was found 26743 times\n",
      "The 'o' character was found 25225 times\n",
      "The 'i' character was found 24613 times\n",
      "The 'n' character was found 24367 times\n",
      "The 's' character was found 21155 times\n",
      "The 'r' character was found 20818 times\n",
      "The 'h' character was found 19725 times\n",
      "The 'd' character was found 16863 times\n",
      "The 'l' character was found 12739 times\n",
      "The 'm' character was found 10604 times\n",
      "The 'u' character was found 10407 times\n",
      "The 'c' character was found 9243 times\n",
      "The 'f' character was found 8731 times\n",
      "The 'y' character was found 7914 times\n",
      "The 'w' character was found 7638 times\n",
      "The 'p' character was found 6121 times\n",
      "The 'g' character was found 5974 times\n",
      "The 'b' character was found 5026 times\n",
      "The 'v' character was found 3833 times\n",
      "The 'k' character was found 1755 times\n",
      "The 'x' character was found 677 times\n",
      "The 'j' character was found 504 times\n",
      "The 'q' character was found 324 times\n",
      "The 'z' character was found 243 times\n",
      "--- End of report ---\n"
     ]
    }
   ],
   "source": [
    "# I'm creating a function that will print out the letter counts in a \"neat way\"\n",
    "def get_char_report(letter_counts, title):\n",
    "    print(f\"--- Begin character report of {title} ---\")\n",
    "    # This will sort the dictionary by the counts of each letter in descending order\n",
    "    sorted_dict = dict(sorted(letter_counts.items(), reverse = True, key= lambda item: item[1]))\n",
    "    # Loop over the sorted keys\n",
    "    for key in sorted_dict.keys():\n",
    "        # Print out the letter and its count\n",
    "        print(f\"The '{key}' character was found {letter_counts[key]} times\")\n",
    "    print(\"--- End of report ---\")\n",
    "\n",
    "# Use the function to print out the letter counts\n",
    "get_char_report(letter_counts, \"Frankenstein\")"
   ]
  },
  {
   "cell_type": "markdown",
   "metadata": {},
   "source": [
    "Cool, what about *Moby-Dick* by Herman Melville? What does the distribution of letters look like for that book?"
   ]
  },
  {
   "cell_type": "code",
   "execution_count": null,
   "metadata": {},
   "outputs": [
    {
     "name": "stdout",
     "output_type": "stream",
     "text": [
      "--- Begin character report of Moby Dick ---\n",
      "The 'e' character was found 284743 times\n",
      "The 't' character was found 210115 times\n",
      "The 'a' character was found 185193 times\n",
      "The 'o' character was found 166843 times\n",
      "The 'i' character was found 157963 times\n",
      "The 'n' character was found 157929 times\n",
      "The 's' character was found 151433 times\n",
      "The 'h' character was found 147263 times\n",
      "The 'r' character was found 128002 times\n",
      "The 'l' character was found 99441 times\n",
      "The 'd' character was found 94543 times\n",
      "The 'u' character was found 64819 times\n",
      "The 'm' character was found 57856 times\n",
      "The 'c' character was found 55881 times\n",
      "The 'w' character was found 52752 times\n",
      "The 'f' character was found 51235 times\n",
      "The 'g' character was found 48550 times\n",
      "The 'y' character was found 42400 times\n",
      "The 'p' character was found 41867 times\n",
      "The 'b' character was found 39432 times\n",
      "The 'v' character was found 21283 times\n",
      "The 'k' character was found 18211 times\n",
      "The 'q' character was found 3486 times\n",
      "The 'j' character was found 2858 times\n",
      "The 'x' character was found 2805 times\n",
      "The 'z' character was found 1515 times\n",
      "The 'æ' character was found 46 times\n",
      "The 'œ' character was found 10 times\n",
      "The 'é' character was found 10 times\n",
      "The 'è' character was found 6 times\n",
      "The 'ח' character was found 2 times\n",
      "The 'ו' character was found 2 times\n",
      "The 'ϰ' character was found 2 times\n",
      "The 'η' character was found 2 times\n",
      "The 'τ' character was found 2 times\n",
      "The 'ο' character was found 2 times\n",
      "The 'ς' character was found 2 times\n",
      "The 'â' character was found 2 times\n",
      "--- End of report ---\n"
     ]
    }
   ],
   "source": [
    "# First, I'm going to create a function so that I don't have to repeat the same code for counting the letters whenever I want to run another book\n",
    "# All I did was simply copy the code from above (notice that I have to return the letter_counts variable)\n",
    "# and put it into a function, now I can just run get_character_counts() and pass in the path to the book I want to analyze\n",
    "def get_character_counts(path_to_book):\n",
    "    # This is the text we are interested in, which we will read in and store in a string\n",
    "    with open(path_to_book, \"r\") as f:\n",
    "        text = f.read()\n",
    "\n",
    "    # Here we will loop over all the letters in the text, as if we have the text in front of us, and we are tracing out\n",
    "    # each letter as we read through the text.\n",
    "    for character in text:\n",
    "        # We only care about lowercase letters, so we will convert any uppercase letters to lowercase.\n",
    "        character = character.lower()\n",
    "        # Check if the character is an actual letter\n",
    "        if character.isalpha():\n",
    "            # If character hasn't been seen before, we add it to the dictionary\n",
    "            if character not in letter_counts:\n",
    "                letter_counts[character] = 1\n",
    "            # If the character is already in the dictionary, we will increment the counter by 1.\n",
    "            else:\n",
    "                letter_counts[character] += 1\n",
    "    # To use the letter_counts variable outside of the function, we have to return it\n",
    "    return letter_counts\n",
    "\n",
    "moby_dick_counts = get_character_counts(\"books/moby-dick.txt\")\n",
    "# Use the function to print out the letter counts\n",
    "get_char_report(moby_dick_counts, \"Moby Dick\")"
   ]
  },
  {
   "cell_type": "markdown",
   "metadata": {},
   "source": [
    "### How can we show this in a visual way?"
   ]
  },
  {
   "cell_type": "code",
   "execution_count": null,
   "metadata": {},
   "outputs": [],
   "source": [
    "# I'm going to create a plotting function so that I can visualize the distribution of letters across the two texts\n",
    "# Plotting in python is done by a package called matplotlib\n",
    "import matplotlib.pyplot as plt\n",
    "\n",
    "# I want to also plot several different books simultaneously, so I'm going to pass a list of the books I want to consider\n",
    "def plot_character_counts(path_to_books):\n",
    "    fig, ax = plt.subplots(1, figsize=(16,9))\n",
    "    # I'm going to plot all of the letters in alphabetical order\n",
    "    \n",
    "    # Loop over the books\n",
    "    for path_to_book in path_to_books:\n",
    "        character_counts = get_character_counts(path_to_book)\n",
    "        "
   ]
  }
 ],
 "metadata": {
  "kernelspec": {
   "display_name": "base",
   "language": "python",
   "name": "python3"
  },
  "language_info": {
   "codemirror_mode": {
    "name": "ipython",
    "version": 3
   },
   "file_extension": ".py",
   "mimetype": "text/x-python",
   "name": "python",
   "nbconvert_exporter": "python",
   "pygments_lexer": "ipython3",
   "version": "3.10.13"
  }
 },
 "nbformat": 4,
 "nbformat_minor": 2
}
